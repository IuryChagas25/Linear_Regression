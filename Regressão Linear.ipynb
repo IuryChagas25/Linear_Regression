{
 "cells": [
  {
   "cell_type": "markdown",
   "id": "secret-spread",
   "metadata": {},
   "source": [
    "# Introdução\n",
    "#### Este Notebook irá abordar de uma maneira simples e rápida, como podemos utilizar a scikit-learn para efetuar a Linear Regression, uma técnica feita para prever custos ou traçar métricas para um comportamento de vendas, ou histórico de compras de determinado produto, por exemplo. A partir dos dados e atributos oferecidos em uma entrada X que fornecerá um resultado em Y. Neste Notebook abordaremos valores de planos de saúde para diferentes idades, como meio de aplicação da intuição ao Linear Regression. "
   ]
  },
  {
   "cell_type": "code",
   "execution_count": 19,
   "id": "casual-aside",
   "metadata": {},
   "outputs": [],
   "source": [
    "import numpy as np\n",
    "import matplotlib.pyplot as plt\n",
    "from sklearn.linear_model import LinearRegression"
   ]
  },
  {
   "cell_type": "markdown",
   "id": "simple-petroleum",
   "metadata": {},
   "source": [
    "#### Vamos primeiro determinar as idades e os respectivos valores do plano"
   ]
  },
  {
   "cell_type": "code",
   "execution_count": 20,
   "id": "recorded-maryland",
   "metadata": {},
   "outputs": [],
   "source": [
    "idade = np.array([[18],[25],[35],[45],[59],[70]])\n",
    "valor_do_plano = np.array([[500],[650],[710],[900],[1000],[1100]])\n"
   ]
  },
  {
   "cell_type": "code",
   "execution_count": 22,
   "id": "friendly-thursday",
   "metadata": {},
   "outputs": [
    {
     "data": {
      "text/plain": [
       "<matplotlib.collections.PathCollection at 0x216fde6f400>"
      ]
     },
     "execution_count": 22,
     "metadata": {},
     "output_type": "execute_result"
    },
    {
     "data": {
      "image/png": "[encoded data removed]",
      "text/plain": [
       "<Figure size 432x288 with 1 Axes>"
      ]
     },
     "metadata": {
      "needs_background": "light"
     },
     "output_type": "display_data"
    }
   ],
   "source": [
    "plt.scatter(idade,valor_do_plano)        #plotando o gráfico idade x valor do plano"
   ]
  },
  {
   "cell_type": "markdown",
   "id": "continuing-figure",
   "metadata": {},
   "source": [
    "#### Vamos agora determinar uma variável que será usada para a regressão linear"
   ]
  },
  {
   "cell_type": "code",
   "execution_count": 23,
   "id": "consolidated-retirement",
   "metadata": {},
   "outputs": [
    {
     "data": {
      "text/plain": [
       "LinearRegression()"
      ]
     },
     "execution_count": 23,
     "metadata": {},
     "output_type": "execute_result"
    }
   ],
   "source": [
    "\n",
    "regressor = LinearRegression()\n",
    "regressor.fit(idade,valor_do_plano)    #atribuindo a regressão os dados da idade com relação ao valor do plano"
   ]
  },
  {
   "cell_type": "code",
   "execution_count": 25,
   "id": "explicit-shopping",
   "metadata": {},
   "outputs": [
    {
     "data": {
      "text/plain": [
       "array([336.9739479])"
      ]
     },
     "execution_count": 25,
     "metadata": {},
     "output_type": "execute_result"
    }
   ],
   "source": [
    "#encontrando o constante B0\n",
    "regressor.intercept_"
   ]
  },
  {
   "cell_type": "code",
   "execution_count": 26,
   "id": "sensitive-championship",
   "metadata": {},
   "outputs": [
    {
     "data": {
      "text/plain": [
       "array([[11.26252505]])"
      ]
     },
     "execution_count": 26,
     "metadata": {},
     "output_type": "execute_result"
    }
   ],
   "source": [
    "#encontrando o constante B1\n",
    "regressor.coef_"
   ]
  },
  {
   "cell_type": "markdown",
   "id": "secure-brother",
   "metadata": {},
   "source": [
    "#### Inserindo na formula da regressão os valores de B0 e B1, que são a       constante de aproximação da reta e coeficientes de aproximação para essa reta, respectivamente, dada pela formula:\n",
    " $$Y = B_{0} + B_{1} * X_{1}$$       \n",
    " *Onde y é a previsão e x1 é a idade, neste caso.*"
   ]
  },
  {
   "cell_type": "code",
   "execution_count": 33,
   "id": "engaging-million",
   "metadata": {},
   "outputs": [
    {
     "data": {
      "text/plain": [
       "array([[810.]])"
      ]
     },
     "execution_count": 33,
     "metadata": {},
     "output_type": "execute_result"
    }
   ],
   "source": [
    "y = regressor.intercept_ + regressor.coef_ * 42\n",
    "y"
   ]
  },
  {
   "cell_type": "code",
   "execution_count": 41,
   "id": "floral-condition",
   "metadata": {},
   "outputs": [
    {
     "data": {
      "text/plain": [
       "array([[810.]])"
      ]
     },
     "execution_count": 41,
     "metadata": {},
     "output_type": "execute_result"
    }
   ],
   "source": [
    "#Ou podemos escrever de uma forma mais direta pela propria sklearn:\n",
    "idade2 = np.array([[42]])\n",
    "y2 = regressor.predict(idade2)\n",
    "y2"
   ]
  },
  {
   "cell_type": "code",
   "execution_count": 43,
   "id": "common-complaint",
   "metadata": {},
   "outputs": [
    {
     "data": {
      "text/plain": [
       "array([[ 539.6993988 ],\n",
       "       [ 618.53707415],\n",
       "       [ 731.16232465],\n",
       "       [ 843.78757515],\n",
       "       [1001.46292585],\n",
       "       [1125.3507014 ]])"
      ]
     },
     "execution_count": 43,
     "metadata": {},
     "output_type": "execute_result"
    }
   ],
   "source": [
    "#podemos verificar a precisão dessa previsão verificando o desvio da previsão com o valor real do array idade:\n",
    "y3 = regressor.predict(idade)\n",
    "y3"
   ]
  },
  {
   "cell_type": "code",
   "execution_count": 48,
   "id": "instructional-wonder",
   "metadata": {},
   "outputs": [
    {
     "data": {
      "text/plain": [
       "array([[39.6993988 ],\n",
       "       [31.46292585],\n",
       "       [21.16232465],\n",
       "       [56.21242485],\n",
       "       [ 1.46292585],\n",
       "       [25.3507014 ]])"
      ]
     },
     "execution_count": 48,
     "metadata": {},
     "output_type": "execute_result"
    }
   ],
   "source": [
    "desvio = abs(valor_do_plano - y3)  #abs() é usado quando queremos apenas o valor absoluto do desvio\n",
    "desvio"
   ]
  },
  {
   "cell_type": "code",
   "execution_count": 49,
   "id": "recent-greece",
   "metadata": {},
   "outputs": [
    {
     "data": {
      "text/plain": [
       "29.225116900467583"
      ]
     },
     "execution_count": 49,
     "metadata": {},
     "output_type": "execute_result"
    }
   ],
   "source": [
    "#ainda mais, podemos escrever uma média de desvio: \n",
    "desvio.mean()"
   ]
  },
  {
   "cell_type": "code",
   "execution_count": 50,
   "id": "complete-exception",
   "metadata": {},
   "outputs": [],
   "source": [
    "#Vamos importar o MSE e o MAE das metricas do scikit learn\n",
    "#O mean squared error irá elevar ao quadrado todo o erro dado pelos valores absolutos e previsoes\n",
    "#O Mean absolute Error é esperado que dê o mesmo valor do desvio.mean() calculado anteriormente\n",
    "from sklearn.metrics import mean_absolute_error, mean_squared_error\n",
    "mae = mean_absolute_error(valor_do_plano, y3)\n",
    "mse = mean_squared_error(valor_do_plano, y3)\n"
   ]
  },
  {
   "cell_type": "code",
   "execution_count": 51,
   "id": "twelve-grill",
   "metadata": {},
   "outputs": [
    {
     "data": {
      "text/plain": [
       "29.225116900467583"
      ]
     },
     "execution_count": 51,
     "metadata": {},
     "output_type": "execute_result"
    }
   ],
   "source": [
    "mae"
   ]
  },
  {
   "cell_type": "code",
   "execution_count": 52,
   "id": "built-allowance",
   "metadata": {},
   "outputs": [
    {
     "data": {
      "text/plain": [
       "1136.406145624581"
      ]
     },
     "execution_count": 52,
     "metadata": {},
     "output_type": "execute_result"
    }
   ],
   "source": [
    "mse"
   ]
  },
  {
   "cell_type": "code",
   "execution_count": 53,
   "id": "neutral-silver",
   "metadata": {
    "scrolled": true
   },
   "outputs": [
    {
     "data": {
      "text/plain": [
       "[<matplotlib.lines.Line2D at 0x216fdf4af70>]"
      ]
     },
     "execution_count": 53,
     "metadata": {},
     "output_type": "execute_result"
    },
    {
     "data": {
      "image/png": "[encoded data removed]",
      "text/plain": [
       "<Figure size 432x288 with 1 Axes>"
      ]
     },
     "metadata": {
      "needs_background": "light"
     },
     "output_type": "display_data"
    }
   ],
   "source": [
    "#vamos agora plotar o gráfico da regressão linear com relação ao gráfico com os dados originais\n",
    "plt.plot(idade,valor_do_plano,'ro')\n",
    "plt.plot(idade,y3,color = 'blue')     #y3 é a nossa previsão de todo o array valor_do_plano"
   ]
  },
  {
   "cell_type": "markdown",
   "id": "foreign-click",
   "metadata": {},
   "source": [
    "# Conclusão:\n",
    "### É importante observar que o objetivo da regressão linear foi alcançado, conseguimos prever com base nos dados fornecidos um valor para o plano em questão baseando-se na idade do paciente.\n",
    "*Uma regressão linear pode ser efetuada em banco de dados, com o intuito de observar o comportamento de vendas ou rendimento de determinado meio, bastando-se ter valores e atributos para X que gerem uma consequência para Y, seja o valor ou indíces de vendas ou compras, por exemplo. Em outros notebooks será mostrado uma forma de fazer essa regressão de uma maneira mais complexa utilizando uma das principais bibliotecas para machine learning atualmente, a Tensor Flow.*"
   ]
  }
 ],
 "metadata": {
  "kernelspec": {
   "display_name": "Python 3",
   "language": "python",
   "name": "python3"
  },
  "language_info": {
   "codemirror_mode": {
    "name": "ipython",
    "version": 3
   },
   "file_extension": ".py",
   "mimetype": "text/x-python",
   "name": "python",
   "nbconvert_exporter": "python",
   "pygments_lexer": "ipython3",
   "version": "3.9.1"
  }
 },
 "nbformat": 4,
 "nbformat_minor": 5
}
